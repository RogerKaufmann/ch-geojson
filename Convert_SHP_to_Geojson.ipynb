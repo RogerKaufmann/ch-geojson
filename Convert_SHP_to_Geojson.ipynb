{
 "cells": [
  {
   "cell_type": "code",
   "execution_count": 85,
   "metadata": {},
   "outputs": [],
   "source": [
    "%matplotlib inline\n",
    "import os\n",
    "import geopandas as gpd\n",
    "import pandas as pd"
   ]
  },
  {
   "cell_type": "code",
   "execution_count": 86,
   "metadata": {},
   "outputs": [],
   "source": [
    "source_shapefile = os.path.join('data', 'swissBOUNDARIES3D_1_3_TLM_KANTONSGEBIET.shp')\n",
    "abbreviation_map = 'abbr_map.csv'"
   ]
  },
  {
   "cell_type": "code",
   "execution_count": 87,
   "metadata": {},
   "outputs": [],
   "source": [
    "abbr_df = pd.read_csv(abbreviation_map, sep=';', encoding='utf-8')\n",
    "canton_geo_df = gpd.read_file(source_shapefile, encoding='utf-8')\n",
    "canton_geo_df = canton_geo_df.to_crs(epsg=4326)"
   ]
  },
  {
   "cell_type": "code",
   "execution_count": 88,
   "metadata": {},
   "outputs": [],
   "source": [
    "df = canton_geo_df.merge(abbr_df, how='left', on='NAME')[['ABBREVIATION', 'NAME','geometry']]"
   ]
  },
  {
   "cell_type": "code",
   "execution_count": 89,
   "metadata": {},
   "outputs": [
    {
     "data": {
      "text/html": [
       "<div>\n",
       "<style scoped>\n",
       "    .dataframe tbody tr th:only-of-type {\n",
       "        vertical-align: middle;\n",
       "    }\n",
       "\n",
       "    .dataframe tbody tr th {\n",
       "        vertical-align: top;\n",
       "    }\n",
       "\n",
       "    .dataframe thead th {\n",
       "        text-align: right;\n",
       "    }\n",
       "</style>\n",
       "<table border=\"1\" class=\"dataframe\">\n",
       "  <thead>\n",
       "    <tr style=\"text-align: right;\">\n",
       "      <th></th>\n",
       "      <th>ABBREVIATION</th>\n",
       "      <th>NAME</th>\n",
       "      <th>geometry</th>\n",
       "    </tr>\n",
       "  </thead>\n",
       "  <tbody>\n",
       "    <tr>\n",
       "      <th>0</th>\n",
       "      <td>GR</td>\n",
       "      <td>Graubünden</td>\n",
       "      <td>POLYGON Z ((8.877053714853441 46.8129140962096...</td>\n",
       "    </tr>\n",
       "    <tr>\n",
       "      <th>1</th>\n",
       "      <td>BE</td>\n",
       "      <td>Bern</td>\n",
       "      <td>POLYGON Z ((8.046943399691038 46.7871148506851...</td>\n",
       "    </tr>\n",
       "    <tr>\n",
       "      <th>2</th>\n",
       "      <td>VS</td>\n",
       "      <td>Valais</td>\n",
       "      <td>POLYGON Z ((8.384717608185072 46.4521592867687...</td>\n",
       "    </tr>\n",
       "    <tr>\n",
       "      <th>3</th>\n",
       "      <td>VD</td>\n",
       "      <td>Vaud</td>\n",
       "      <td>POLYGON Z ((7.071243074723814 46.2010116664219...</td>\n",
       "    </tr>\n",
       "    <tr>\n",
       "      <th>4</th>\n",
       "      <td>TI</td>\n",
       "      <td>Ticino</td>\n",
       "      <td>POLYGON Z ((8.384717608185072 46.4521592867687...</td>\n",
       "    </tr>\n",
       "  </tbody>\n",
       "</table>\n",
       "</div>"
      ],
      "text/plain": [
       "  ABBREVIATION        NAME                                           geometry\n",
       "0           GR  Graubünden  POLYGON Z ((8.877053714853441 46.8129140962096...\n",
       "1           BE        Bern  POLYGON Z ((8.046943399691038 46.7871148506851...\n",
       "2           VS      Valais  POLYGON Z ((8.384717608185072 46.4521592867687...\n",
       "3           VD        Vaud  POLYGON Z ((7.071243074723814 46.2010116664219...\n",
       "4           TI      Ticino  POLYGON Z ((8.384717608185072 46.4521592867687..."
      ]
     },
     "execution_count": 89,
     "metadata": {},
     "output_type": "execute_result"
    }
   ],
   "source": [
    "df.head()"
   ]
  },
  {
   "cell_type": "code",
   "execution_count": 90,
   "metadata": {},
   "outputs": [],
   "source": [
    "df.to_file(\"cantons.geojson\", driver='GeoJSON',encoding='utf-8')"
   ]
  },
  {
   "cell_type": "code",
   "execution_count": null,
   "metadata": {},
   "outputs": [],
   "source": [
    "df.dissolve(by='ABBREVIATION').reset_index().to_file(\"cantons_dissolved.geojson\", driver='GeoJSON',encoding='utf-8')"
   ]
  },
  {
   "cell_type": "code",
   "execution_count": null,
   "metadata": {},
   "outputs": [],
   "source": []
  }
 ],
 "metadata": {
  "kernelspec": {
   "display_name": "Python 3",
   "language": "python",
   "name": "python3"
  },
  "language_info": {
   "codemirror_mode": {
    "name": "ipython",
    "version": 3
   },
   "file_extension": ".py",
   "mimetype": "text/x-python",
   "name": "python",
   "nbconvert_exporter": "python",
   "pygments_lexer": "ipython3",
   "version": "3.6.8"
  }
 },
 "nbformat": 4,
 "nbformat_minor": 2
}
